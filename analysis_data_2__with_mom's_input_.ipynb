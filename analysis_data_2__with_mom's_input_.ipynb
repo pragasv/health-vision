{
  "nbformat": 4,
  "nbformat_minor": 0,
  "metadata": {
    "kernelspec": {
      "display_name": "Python 3",
      "language": "python",
      "name": "python3"
    },
    "language_info": {
      "codemirror_mode": {
        "name": "ipython",
        "version": 3
      },
      "file_extension": ".py",
      "mimetype": "text/x-python",
      "name": "python",
      "nbconvert_exporter": "python",
      "pygments_lexer": "ipython3",
      "version": "3.6.10"
    },
    "colab": {
      "name": "analysis data 2_ with mom's input .ipynb",
      "provenance": [],
      "include_colab_link": true
    },
    "accelerator": "GPU"
  },
  "cells": [
    {
      "cell_type": "markdown",
      "metadata": {
        "id": "view-in-github",
        "colab_type": "text"
      },
      "source": [
        "<a href=\"https://colab.research.google.com/github/pragasv/health-vision/blob/master/analysis_data_2__with_mom's_input_.ipynb\" target=\"_parent\"><img src=\"https://colab.research.google.com/assets/colab-badge.svg\" alt=\"Open In Colab\"/></a>"
      ]
    },
    {
      "cell_type": "code",
      "metadata": {
        "id": "2rz2L73tGVMW",
        "colab_type": "code",
        "colab": {}
      },
      "source": [
        "import pandas as pd \n",
        "import numpy as np \n",
        "import matplotlib.pyplot as plt \n",
        "from dateutil import parser\n",
        "import re \n",
        "from sklearn.cluster import KMeans\n",
        "import scipy.cluster.hierarchy as sch\n",
        "from sklearn.cluster import AgglomerativeClustering\n",
        "from scipy.spatial.distance import cdist\n",
        "from sklearn.model_selection import train_test_split\n",
        "from sklearn.metrics import confusion_matrix,plot_confusion_matrix\n",
        "\n",
        "import tensorflow as tf \n",
        "import keras \n",
        "from keras.models import Sequential\n",
        "from keras.layers import Dense\n",
        "from tensorflow.compat.v1 import set_random_seed\n",
        "import pickle\n",
        "\n",
        "from sklearn.model_selection import GridSearchCV\n",
        "from sklearn.metrics import make_scorer\n",
        "from sklearn.metrics import accuracy_score, precision_score, recall_score\n",
        "from keras.wrappers.scikit_learn import KerasClassifier"
      ],
      "execution_count": 0,
      "outputs": []
    },
    {
      "cell_type": "code",
      "metadata": {
        "id": "5yr_M1fXGjTk",
        "colab_type": "code",
        "colab": {
          "base_uri": "https://localhost:8080/",
          "height": 35
        },
        "outputId": "ab3e83c0-06b8-4ba6-9335-63e4088e60b8"
      },
      "source": [
        "tf.test.gpu_device_name()"
      ],
      "execution_count": 3,
      "outputs": [
        {
          "output_type": "execute_result",
          "data": {
            "text/plain": [
              "'/device:GPU:0'"
            ]
          },
          "metadata": {
            "tags": []
          },
          "execution_count": 3
        }
      ]
    },
    {
      "cell_type": "code",
      "metadata": {
        "id": "XmNoWZRDG5rU",
        "colab_type": "code",
        "colab": {
          "resources": {
            "http://localhost:8080/nbextensions/google.colab/files.js": {
              "data": "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",
              "ok": true,
              "headers": [
                [
                  "content-type",
                  "application/javascript"
                ]
              ],
              "status": 200,
              "status_text": ""
            }
          },
          "base_uri": "https://localhost:8080/",
          "height": 110
        },
        "outputId": "a1ec1c91-f441-4b13-d7c8-4e35b723bd14"
      },
      "source": [
        "## upload files \n",
        "from google.colab import files\n",
        "uploaded = files.upload()"
      ],
      "execution_count": 6,
      "outputs": [
        {
          "output_type": "display_data",
          "data": {
            "text/html": [
              "\n",
              "     <input type=\"file\" id=\"files-4d49c117-1b3e-4342-ad20-ef4f6a870035\" name=\"files[]\" multiple disabled />\n",
              "     <output id=\"result-4d49c117-1b3e-4342-ad20-ef4f6a870035\">\n",
              "      Upload widget is only available when the cell has been executed in the\n",
              "      current browser session. Please rerun this cell to enable.\n",
              "      </output>\n",
              "      <script src=\"/nbextensions/google.colab/files.js\"></script> "
            ],
            "text/plain": [
              "<IPython.core.display.HTML object>"
            ]
          },
          "metadata": {
            "tags": []
          }
        },
        {
          "output_type": "stream",
          "text": [
            "Saving data2_new_colomns.csv to data2_new_colomns.csv\n",
            "Saving Patient-Medical-Data-for-Novel-Coronavirus-COVID-19.csv to Patient-Medical-Data-for-Novel-Coronavirus-COVID-19.csv\n"
          ],
          "name": "stdout"
        }
      ]
    },
    {
      "cell_type": "code",
      "metadata": {
        "id": "FR-chAJNGVMc",
        "colab_type": "code",
        "colab": {
          "base_uri": "https://localhost:8080/",
          "height": 131
        },
        "outputId": "d75c38a1-fbf6-4039-b516-9001a9aaa4cc"
      },
      "source": [
        "## new colomn to associate risk level based on mothers input  \n",
        "import io\n",
        "\n",
        "data2 = pd.read_csv(io.BytesIO(uploaded['Patient-Medical-Data-for-Novel-Coronavirus-COVID-19.csv']))\n",
        "\n",
        "data2_new = pd.read_csv(io.BytesIO(uploaded(['data2_new_colomns.csv']))\n",
        "symptoms_data = pd.read_csv(io.BytesIO(uploaded['symptoms.csv']))\n",
        "chronic_data = pd.read_csv(io.BytesIO(uploaded['chronic.csv']))\n"
      ],
      "execution_count": 7,
      "outputs": [
        {
          "output_type": "error",
          "ename": "SyntaxError",
          "evalue": "ignored",
          "traceback": [
            "\u001b[0;36m  File \u001b[0;32m\"<ipython-input-7-618a0ce13fee>\"\u001b[0;36m, line \u001b[0;32m7\u001b[0m\n\u001b[0;31m    symptoms_data = pd.read_csv(io.BytesIO(uploaded['symptoms.csv']))\u001b[0m\n\u001b[0m                ^\u001b[0m\n\u001b[0;31mSyntaxError\u001b[0m\u001b[0;31m:\u001b[0m invalid syntax\n"
          ]
        }
      ]
    },
    {
      "cell_type": "code",
      "metadata": {
        "id": "cG4bZK8lGVMf",
        "colab_type": "code",
        "colab": {}
      },
      "source": [
        "#tf.enable_eager_execution()"
      ],
      "execution_count": 0,
      "outputs": []
    },
    {
      "cell_type": "code",
      "metadata": {
        "id": "p-gTEyHuGVMk",
        "colab_type": "code",
        "colab": {}
      },
      "source": [
        "# delete unused data \n",
        "\n",
        "del data2_new['DateOfDeath']\n",
        "del data2_new['DateOfDischarge']\n",
        "del data2_new['GeoPosition']\n",
        "del data2_new['DateOfOnsetSymptoms']\n",
        "del data2_new['DateOfAdmissionHospital']\n",
        "del data2_new['DateOfConfirmation']"
      ],
      "execution_count": 0,
      "outputs": []
    },
    {
      "cell_type": "code",
      "metadata": {
        "id": "w6cfLZGbGVMn",
        "colab_type": "code",
        "colab": {}
      },
      "source": [
        "## duplicate rows delted \n",
        "data2.drop_duplicates(keep = 'first', inplace = True, ignore_index = 1)"
      ],
      "execution_count": 0,
      "outputs": []
    },
    {
      "cell_type": "code",
      "metadata": {
        "id": "LYAv-tJ9GVMq",
        "colab_type": "code",
        "colab": {}
      },
      "source": [
        "## one hot encoding - clustering purpose \n",
        "df1 = pd.DataFrame()  \n",
        "\n",
        "for i in range(len(data2)):\n",
        "    if data2['Symptoms'][i] != \"\"\"Missing[\"NotAvailable\"]\"\"\" :\n",
        "        a = re.findall('\"([^\"]*)\"',data2['Symptoms'][i])\n",
        "        df1 = pd.concat([df1,pd.DataFrame([a])], ignore_index=True)\n",
        "    else: \n",
        "        df1 = pd.concat([df1,pd.DataFrame([0])], ignore_index=True)\n",
        "\n",
        "## identify unique items \n",
        "a,b = df1.shape\n",
        "items = []\n",
        "for i in range(b):\n",
        "    items += df1[i].unique().tolist()\n",
        "items = list(set(items))\n",
        "\n",
        "encoded_vals = []\n",
        "for index, row in df1.iterrows():\n",
        "    labels = {}\n",
        "    uncommons = list(set(items) - set(row))\n",
        "    commons = list(set(items).intersection(row))\n",
        "    for uc in uncommons:\n",
        "        labels[uc] = 0\n",
        "    for com in commons:\n",
        "        labels[com] = 1\n",
        "    encoded_vals.append(labels)\n",
        "encoded_vals[0]\n",
        "\n",
        "#one hot encoded data frame \n",
        "ohe_df = pd.DataFrame(encoded_vals)\n",
        "#delete 0 and NaN colomn \n",
        "del ohe_df[0]\n",
        "del ohe_df[float('nan')]\n",
        "\n",
        "### ohe - chronic diseases\n",
        "df = pd.DataFrame()  \n",
        "for i in range(len(data2)):\n",
        "    if data2['ChronicDiseases'][i] != \"\"\"Missing[\"NotAvailable\"]\"\"\" :\n",
        "        a = re.findall('\"([^\"]*)\"',data2['ChronicDiseases'][i])\n",
        "        df = pd.concat([df,pd.DataFrame([a])], ignore_index=True)\n",
        "    else: \n",
        "        df = pd.concat([df,pd.DataFrame([0])], ignore_index=True)\n",
        "\n",
        "## identify unique items \n",
        "a,b = df.shape\n",
        "items = []\n",
        "for i in range(b):\n",
        "    items += df[i].unique().tolist()\n",
        "items = list(set(items))\n",
        "\n",
        "\n",
        "encoded_vals = []\n",
        "for index, row in df.iterrows():\n",
        "    labels = {}\n",
        "    uncommons = list(set(items) - set(row))\n",
        "    commons = list(set(items).intersection(row))\n",
        "    for uc in uncommons:\n",
        "        labels[uc] = 0\n",
        "    for com in commons:\n",
        "        labels[com] = 1\n",
        "    encoded_vals.append(labels)\n",
        "encoded_vals[0]\n",
        "\n",
        "#one hot encoded data frame \n",
        "ohe_df_2 = pd.DataFrame(encoded_vals)\n",
        "#delete 0 and NaN colomn \n",
        "del ohe_df_2[0]\n",
        "del ohe_df_2[float('nan')]\n"
      ],
      "execution_count": 0,
      "outputs": []
    },
    {
      "cell_type": "code",
      "metadata": {
        "id": "6HoTbRNGGVMt",
        "colab_type": "code",
        "colab": {},
        "outputId": "3086587a-0955-4c59-bf2d-5909f4298d3d"
      },
      "source": [
        "ohe_df.columns"
      ],
      "execution_count": 0,
      "outputs": [
        {
          "output_type": "execute_result",
          "data": {
            "text/plain": [
              "Index(['shortness of breath', 'chest pain', 'dizziness', 'discharge',\n",
              "       'body soreness', 'nausea', 'respiratory symptoms', 'malaise',\n",
              "       'cardiac arrhythmia', 'COVID-19 related symptoms', 'afebrile',\n",
              "       'wheezing', 'difficulty walking', 'gastritis', 'sore throat',\n",
              "       'cold symptoms', 'full body slump', 'sore muscle',\n",
              "       'no respiratory symptoms', 'poor physical condition',\n",
              "       'acute respiratory failure', 'aggressive pulmonary symptomatology',\n",
              "       'acute left heart failure', 'pharyngalgia',\n",
              "       'acute respiratory distress syndrome', 'pneumonitis', 'sneezing',\n",
              "       'acute respiratory disease', 'sore limbs', 'weakness', 'dry throat',\n",
              "       'hypoxia', 'congestive heart failure', 'dry mouth', 'heart failure',\n",
              "       'somnolence', 'chills', 'influenza', 'inappetence', 'kidney failure',\n",
              "       'asymptomatic', 'back pain', 'septic shock',\n",
              "       'similar to a respiratory infection', 'systemic weakness',\n",
              "       'cardiopulmonary arrest', 'acute coronary syndrome',\n",
              "       'myocardial dysfunction', 'bone pain', 'primary myelofibrosis',\n",
              "       'severe acute respiratory distress syndrome', 'pleural effusion',\n",
              "       'rhinitis', 'digestive discomfort', 'multiple organ failure',\n",
              "       'flu-like symptoms', 'acute pharyngitis', 'pnuemonia', 'toothache',\n",
              "       'rhinorrhea', 'acute respiratory infection', 'DegreesCelsius',\n",
              "       'acute respiratory disease syndrome', 'headache', 'pneumonia',\n",
              "       'sweating', 'myocardial infarction', 'esophageal reflux', 'arrhythmia',\n",
              "       'abdominal pain', 'mild symptoms', 'other symptoms',\n",
              "       'cardiogenic shock', 'joint pain', 'gasp', 'breathing difficulty',\n",
              "       'sepsis', 'lesions on chest radiographs', 'acute renal failure',\n",
              "       'acute myocardial infarction', 'multiple electrolyte imbalance',\n",
              "       'dysphagia', 'vomiting', 'anorexia', 'acute kidney injury',\n",
              "       'acute respiratory viral infection', 'lack of energy', 'diarrhea',\n",
              "       'conjunctivitis', 'sputum', 'cough', 'fever', 'myalgias', 'fatigue'],\n",
              "      dtype='object')"
            ]
          },
          "metadata": {
            "tags": []
          },
          "execution_count": 7
        }
      ]
    },
    {
      "cell_type": "code",
      "metadata": {
        "id": "MJecKIfkGVMy",
        "colab_type": "code",
        "colab": {}
      },
      "source": [
        "### identify the top 10  symptoms and 5 chronic diseases \n",
        "top_sym = ['fever','cough','pneumonia','acute respiratory distress syndrome','rhinorrhea','chest pain','headache',\n",
        "           'shortness of breath','DegreesCelsius','fatigue','myalgias','malaise']\n",
        "\n",
        "for i in ohe_df.columns:\n",
        "    if i not in top_sym:\n",
        "        del ohe_df[i]"
      ],
      "execution_count": 0,
      "outputs": []
    },
    {
      "cell_type": "code",
      "metadata": {
        "id": "9Dv4zTfUGVM1",
        "colab_type": "code",
        "colab": {}
      },
      "source": [
        "top_chr = ['hypertension','asthma','coronary heart disease','chronic obstructive pulmonary disease','chronic kidney disease']\n",
        "\n",
        "for i in ohe_df_2.columns:\n",
        "    if i not in top_chr:\n",
        "        del ohe_df_2[i]"
      ],
      "execution_count": 0,
      "outputs": []
    },
    {
      "cell_type": "code",
      "metadata": {
        "id": "HjoDWFHhGVM4",
        "colab_type": "code",
        "colab": {},
        "outputId": "ae935cee-fe28-4ddc-f7f5-43da470273f0"
      },
      "source": [
        "ohe_df_2.shape"
      ],
      "execution_count": 0,
      "outputs": [
        {
          "output_type": "execute_result",
          "data": {
            "text/plain": [
              "(9423, 5)"
            ]
          },
          "metadata": {
            "tags": []
          },
          "execution_count": 10
        }
      ]
    },
    {
      "cell_type": "code",
      "metadata": {
        "id": "83-PkaovGVM7",
        "colab_type": "code",
        "colab": {}
      },
      "source": [
        "data2_new = pd.concat([data2_new,ohe_df,ohe_df_2],axis=1)"
      ],
      "execution_count": 0,
      "outputs": []
    },
    {
      "cell_type": "code",
      "metadata": {
        "id": "c0mcD-s0GVM-",
        "colab_type": "code",
        "colab": {}
      },
      "source": [
        "### delete some unwanted colomns to send for clustering \n",
        "\n",
        "del data2_new['Symptoms']\n",
        "del data2_new['ChronicDiseases']"
      ],
      "execution_count": 0,
      "outputs": []
    },
    {
      "cell_type": "code",
      "metadata": {
        "id": "bsOV-AFxGVNC",
        "colab_type": "code",
        "colab": {}
      },
      "source": [
        "### mapping of all true to 1  \n",
        "data2_new[['ChronicDiseaseQ','SequenceAvailable','DischargedQ','DeathQ']] = (data2_new[['ChronicDiseaseQ','SequenceAvailable','DischargedQ','DeathQ']] == 'True').astype(int)"
      ],
      "execution_count": 0,
      "outputs": []
    },
    {
      "cell_type": "code",
      "metadata": {
        "id": "Chvz5ru0GVNF",
        "colab_type": "code",
        "colab": {}
      },
      "source": [
        "##find a way to catagorize the labels  - mom's inputs \n",
        "label_chronic = []\n",
        "label_symptom = []\n",
        "\n",
        "for i in range(len(data2_new)):\n",
        "    val_ch = 0 \n",
        "    val_sy = 0 \n",
        "    \n",
        "    for j in chronic_data.columns:\n",
        "        try:\n",
        "            val_ch += int(data2_new[j][i]) * int(chronic_data[j][0])\n",
        "        except: \n",
        "            continue\n",
        "            #print('issues in chronic: ' + j )\n",
        "    label_chronic.append(val_ch)\n",
        "    \n",
        "    \n",
        "    \n",
        "    for k in symptoms_data.columns:\n",
        "        try:\n",
        "            val_sy += int(data2_new[k][i]) *int(symptoms_data[k][0])\n",
        "        except: \n",
        "            continue\n",
        "            #print('issues in symptoms: ' + k )\n",
        "    label_symptom.append(val_sy)\n",
        "    "
      ],
      "execution_count": 0,
      "outputs": []
    },
    {
      "cell_type": "code",
      "metadata": {
        "id": "eIOWv0EeGVNI",
        "colab_type": "code",
        "colab": {},
        "outputId": "77c78ab4-1d06-4e61-8588-373561fb180e"
      },
      "source": [
        "severity =np.array(label_chronic) + np.array(label_symptom)\n",
        "print((pd.DataFrame(severity))[0].value_counts())\n",
        "\n",
        "#bininig maually \n",
        "digitized = []\n",
        "\n",
        "for i in range(len(severity)):\n",
        "    if severity[i]==0 : \n",
        "        digitized.append(0)\n",
        "    elif severity[i]<=5 : \n",
        "        digitized.append(1)\n",
        "    elif severity[i]<=12 : \n",
        "        digitized.append(2)\n",
        "    else:\n",
        "        digitized.append(3)"
      ],
      "execution_count": 0,
      "outputs": [
        {
          "output_type": "stream",
          "text": [
            "0     8659\n",
            "5      315\n",
            "10     196\n",
            "15      42\n",
            "8       34\n",
            "6       30\n",
            "11      23\n",
            "1       22\n",
            "7       20\n",
            "4       15\n",
            "9       14\n",
            "2       12\n",
            "13      10\n",
            "12      10\n",
            "14       7\n",
            "16       4\n",
            "3        3\n",
            "18       3\n",
            "17       2\n",
            "19       1\n",
            "20       1\n",
            "Name: 0, dtype: int64\n"
          ],
          "name": "stdout"
        }
      ]
    },
    {
      "cell_type": "code",
      "metadata": {
        "id": "KFslwFlQGVNL",
        "colab_type": "code",
        "colab": {},
        "outputId": "e849aa6d-5bbc-4ce5-b0fb-f5ac364eabee"
      },
      "source": [
        "print((pd.DataFrame(digitized))[0].value_counts())"
      ],
      "execution_count": 0,
      "outputs": [
        {
          "output_type": "stream",
          "text": [
            "0    8659\n",
            "1     367\n",
            "2     327\n",
            "3      70\n",
            "Name: 0, dtype: int64\n"
          ],
          "name": "stdout"
        }
      ]
    },
    {
      "cell_type": "code",
      "metadata": {
        "id": "QPZUAwv8GVNP",
        "colab_type": "code",
        "colab": {}
      },
      "source": [
        "data2_new = pd.concat([data2_new,pd.DataFrame(label_chronic),pd.DataFrame(label_symptom),pd.DataFrame(digitized)],axis=1)"
      ],
      "execution_count": 0,
      "outputs": []
    },
    {
      "cell_type": "code",
      "metadata": {
        "id": "TfB85w_CGVNT",
        "colab_type": "code",
        "colab": {}
      },
      "source": [
        ""
      ],
      "execution_count": 0,
      "outputs": []
    },
    {
      "cell_type": "code",
      "metadata": {
        "id": "AHxf_KdDGVNa",
        "colab_type": "code",
        "colab": {}
      },
      "source": [
        "##################################\n",
        "### remove unnecessary columns ###\n",
        "##################################"
      ],
      "execution_count": 0,
      "outputs": []
    },
    {
      "cell_type": "code",
      "metadata": {
        "id": "Z-mCZx9zGVNd",
        "colab_type": "code",
        "colab": {}
      },
      "source": [
        "df = data2_new[(data2_new['Age'].isna()) & (data2_new['Age'] != 0)]"
      ],
      "execution_count": 0,
      "outputs": []
    },
    {
      "cell_type": "code",
      "metadata": {
        "id": "ZOdEHNrwGVNf",
        "colab_type": "code",
        "colab": {},
        "outputId": "b9282ca3-fc2c-4885-8679-afa76259a99d"
      },
      "source": [
        "df.shape"
      ],
      "execution_count": 0,
      "outputs": [
        {
          "output_type": "execute_result",
          "data": {
            "text/plain": [
              "(119, 32)"
            ]
          },
          "metadata": {
            "tags": []
          },
          "execution_count": 20
        }
      ]
    },
    {
      "cell_type": "markdown",
      "metadata": {
        "id": "JiioCQYjGVNi",
        "colab_type": "text"
      },
      "source": [
        "# # training"
      ]
    },
    {
      "cell_type": "code",
      "metadata": {
        "id": "ccnIQRfnGVNi",
        "colab_type": "code",
        "colab": {}
      },
      "source": [
        "X = (data2_new[:9304].iloc[:,:-3]).to_numpy()\n",
        "y = (data2_new[:9304].iloc[:,-1]).to_numpy()\n",
        "\n",
        "## split train and test sets \n",
        "X_train, X_test, y_train, y_test = train_test_split(X, y, test_size = 0.2, random_state = 42)"
      ],
      "execution_count": 0,
      "outputs": []
    },
    {
      "cell_type": "code",
      "metadata": {
        "id": "CTifHic-GVNm",
        "colab_type": "code",
        "colab": {},
        "outputId": "818b4a96-4001-40b0-d2f3-7871f4672925"
      },
      "source": [
        "### trying NN approach \n",
        "set_random_seed(2)\n",
        "model = tf.keras.models.Sequential([\n",
        "                             tf.keras.layers.Dense(64,input_dim=29,activation=\"relu\"),\n",
        "                             tf.keras.layers.Dense(128,activation=\"relu\"),\n",
        "                             tf.keras.layers.Dense(128,activation=\"relu\"),\n",
        "                             tf.keras.layers.Dense(4,activation=\"softmax\")\n",
        "                            # tf.keras.layers.Dense(3,input_dim = 149,activation=\"softmax\")\n",
        "])\n",
        "\n",
        "model.compile(optimizer=\"adam\",loss = \"sparse_categorical_crossentropy\",metrics = [\"acc\"])\n",
        "\n",
        "model.summary()"
      ],
      "execution_count": 0,
      "outputs": [
        {
          "output_type": "stream",
          "text": [
            "WARNING:tensorflow:From C:\\Users\\PragatheeswaranV\\AppData\\Local\\Continuum\\anaconda3\\envs\\check\\lib\\site-packages\\tensorflow\\python\\ops\\resource_variable_ops.py:435: colocate_with (from tensorflow.python.framework.ops) is deprecated and will be removed in a future version.\n",
            "Instructions for updating:\n",
            "Colocations handled automatically by placer.\n",
            "_________________________________________________________________\n",
            "Layer (type)                 Output Shape              Param #   \n",
            "=================================================================\n",
            "dense (Dense)                (None, 64)                1920      \n",
            "_________________________________________________________________\n",
            "dense_1 (Dense)              (None, 128)               8320      \n",
            "_________________________________________________________________\n",
            "dense_2 (Dense)              (None, 128)               16512     \n",
            "_________________________________________________________________\n",
            "dense_3 (Dense)              (None, 4)                 516       \n",
            "=================================================================\n",
            "Total params: 27,268\n",
            "Trainable params: 27,268\n",
            "Non-trainable params: 0\n",
            "_________________________________________________________________\n"
          ],
          "name": "stdout"
        }
      ]
    },
    {
      "cell_type": "code",
      "metadata": {
        "id": "VHtpJ9IPGVNo",
        "colab_type": "code",
        "colab": {},
        "outputId": "088a2266-5f7c-4975-eebb-dbb2ed77d0fc"
      },
      "source": [
        "history = model.fit(X_train,y_train,validation_split=0.33,epochs = 30, batch_size = 10)"
      ],
      "execution_count": 0,
      "outputs": [
        {
          "output_type": "stream",
          "text": [
            "Train on 4986 samples, validate on 2457 samples\n",
            "Epoch 1/30\n",
            "4986/4986 [==============================] - 1s 279us/sample - loss: 0.3782 - acc: 0.9174 - val_loss: 0.2941 - val_acc: 0.9194\n",
            "Epoch 2/30\n",
            "4986/4986 [==============================] - 1s 242us/sample - loss: 0.1559 - acc: 0.9481 - val_loss: 0.1096 - val_acc: 0.9495\n",
            "Epoch 3/30\n",
            "4986/4986 [==============================] - 1s 235us/sample - loss: 0.0815 - acc: 0.9721 - val_loss: 0.1002 - val_acc: 0.9687\n",
            "Epoch 4/30\n",
            "4986/4986 [==============================] - 1s 203us/sample - loss: 0.0798 - acc: 0.9715 - val_loss: 0.0602 - val_acc: 0.9776\n",
            "Epoch 5/30\n",
            "4986/4986 [==============================] - 1s 232us/sample - loss: 0.0695 - acc: 0.9767 - val_loss: 0.0519 - val_acc: 0.9813\n",
            "Epoch 6/30\n",
            "4986/4986 [==============================] - 1s 215us/sample - loss: 0.0519 - acc: 0.9826 - val_loss: 0.0622 - val_acc: 0.9780\n",
            "Epoch 7/30\n",
            "4986/4986 [==============================] - 1s 206us/sample - loss: 0.0571 - acc: 0.9803 - val_loss: 0.0556 - val_acc: 0.9862\n",
            "Epoch 8/30\n",
            "4986/4986 [==============================] - 1s 205us/sample - loss: 0.0499 - acc: 0.9848 - val_loss: 0.0398 - val_acc: 0.9870\n",
            "Epoch 9/30\n",
            "4986/4986 [==============================] - 1s 204us/sample - loss: 0.0397 - acc: 0.9858 - val_loss: 0.0409 - val_acc: 0.9874\n",
            "Epoch 10/30\n",
            "4986/4986 [==============================] - 1s 205us/sample - loss: 0.0364 - acc: 0.9888 - val_loss: 0.0426 - val_acc: 0.9817\n",
            "Epoch 11/30\n",
            "4986/4986 [==============================] - 1s 204us/sample - loss: 0.0241 - acc: 0.9924 - val_loss: 0.0305 - val_acc: 0.9886\n",
            "Epoch 12/30\n",
            "4986/4986 [==============================] - 1s 207us/sample - loss: 0.0441 - acc: 0.9878 - val_loss: 0.1365 - val_acc: 0.9406\n",
            "Epoch 13/30\n",
            "4986/4986 [==============================] - 1s 205us/sample - loss: 0.0293 - acc: 0.9908 - val_loss: 0.0291 - val_acc: 0.9919\n",
            "Epoch 14/30\n",
            "4986/4986 [==============================] - 1s 208us/sample - loss: 0.0386 - acc: 0.9904 - val_loss: 0.0336 - val_acc: 0.9894\n",
            "Epoch 15/30\n",
            "4986/4986 [==============================] - 1s 207us/sample - loss: 0.0166 - acc: 0.9952 - val_loss: 0.0215 - val_acc: 0.9935\n",
            "Epoch 16/30\n",
            "4986/4986 [==============================] - 1s 206us/sample - loss: 0.0189 - acc: 0.9948 - val_loss: 0.0376 - val_acc: 0.9910\n",
            "Epoch 17/30\n",
            "4986/4986 [==============================] - 1s 208us/sample - loss: 0.0278 - acc: 0.9914 - val_loss: 0.0327 - val_acc: 0.9923\n",
            "Epoch 18/30\n",
            "4986/4986 [==============================] - 1s 297us/sample - loss: 0.0136 - acc: 0.9966 - val_loss: 0.0237 - val_acc: 0.9939\n",
            "Epoch 19/30\n",
            "4986/4986 [==============================] - 1s 290us/sample - loss: 0.0374 - acc: 0.9902 - val_loss: 0.1029 - val_acc: 0.9752\n",
            "Epoch 20/30\n",
            "4986/4986 [==============================] - 1s 271us/sample - loss: 0.0356 - acc: 0.9904 - val_loss: 0.0432 - val_acc: 0.9853\n",
            "Epoch 21/30\n",
            "4986/4986 [==============================] - 1s 292us/sample - loss: 0.0127 - acc: 0.9966 - val_loss: 0.0319 - val_acc: 0.9931\n",
            "Epoch 22/30\n",
            "4986/4986 [==============================] - 1s 236us/sample - loss: 0.0153 - acc: 0.9964 - val_loss: 0.0217 - val_acc: 0.9955\n",
            "Epoch 23/30\n",
            "4986/4986 [==============================] - 1s 221us/sample - loss: 0.0154 - acc: 0.9958 - val_loss: 0.0324 - val_acc: 0.9906\n",
            "Epoch 24/30\n",
            "4986/4986 [==============================] - 1s 211us/sample - loss: 0.0242 - acc: 0.9924 - val_loss: 0.0225 - val_acc: 0.9959\n",
            "Epoch 25/30\n",
            "4986/4986 [==============================] - 1s 210us/sample - loss: 0.0108 - acc: 0.9972 - val_loss: 0.0209 - val_acc: 0.9963\n",
            "Epoch 26/30\n",
            "4986/4986 [==============================] - 1s 209us/sample - loss: 0.0143 - acc: 0.9962 - val_loss: 0.0397 - val_acc: 0.9910\n",
            "Epoch 27/30\n",
            "4986/4986 [==============================] - 1s 216us/sample - loss: 0.0226 - acc: 0.9940 - val_loss: 0.0177 - val_acc: 0.9955\n",
            "Epoch 28/30\n",
            "4986/4986 [==============================] - 1s 215us/sample - loss: 0.0158 - acc: 0.9956 - val_loss: 0.0268 - val_acc: 0.9890\n",
            "Epoch 29/30\n",
            "4986/4986 [==============================] - 1s 248us/sample - loss: 0.0096 - acc: 0.9972 - val_loss: 0.0226 - val_acc: 0.9955\n",
            "Epoch 30/30\n",
            "4986/4986 [==============================] - 1s 232us/sample - loss: 0.0170 - acc: 0.9956 - val_loss: 0.0298 - val_acc: 0.9935\n"
          ],
          "name": "stdout"
        }
      ]
    },
    {
      "cell_type": "code",
      "metadata": {
        "id": "5ONLKYE-GVNr",
        "colab_type": "code",
        "colab": {},
        "outputId": "c084bfca-0fcc-4cdf-b42d-9dd8ae4ea076"
      },
      "source": [
        "plt.plot(history.history['acc'])\n",
        "plt.plot(history.history['val_acc'])\n",
        "plt.title('model accuracy')\n",
        "plt.ylabel('accuracy')\n",
        "plt.xlabel('epoch')\n",
        "plt.legend(['train', 'val'], loc='upper left')\n",
        "plt.show()\n",
        "\n",
        "\n",
        "plt.plot(history.history['loss'])\n",
        "plt.plot(history.history['val_loss'])\n",
        "plt.title('model loss')\n",
        "plt.ylabel('loss')\n",
        "plt.xlabel('epoch')\n",
        "plt.legend(['train', 'val'], loc='upper left')\n",
        "plt.show()"
      ],
      "execution_count": 0,
      "outputs": [
        {
          "output_type": "display_data",
          "data": {
            "image/png": "[encoded data removed]",
            "text/plain": [
              "<Figure size 432x288 with 1 Axes>"
            ]
          },
          "metadata": {
            "tags": [],
            "needs_background": "light"
          }
        },
        {
          "output_type": "display_data",
          "data": {
            "image/png": "[encoded data removed]",
            "text/plain": [
              "<Figure size 432x288 with 1 Axes>"
            ]
          },
          "metadata": {
            "tags": [],
            "needs_background": "light"
          }
        }
      ]
    },
    {
      "cell_type": "code",
      "metadata": {
        "id": "WgxZDS-nGVNu",
        "colab_type": "code",
        "colab": {},
        "outputId": "a4b8772d-2045-430d-b103-e29273dd4cdc"
      },
      "source": [
        "predict=model.predict(X_train)\n",
        "predict = np.argmax(predict, axis = -1)\n",
        "\n",
        "### performance on train set \n",
        "cm = confusion_matrix(y_train,predict, normalize= 'pred')\n",
        "plt.imshow(cm,interpolation='none',cmap='Reds')\n",
        "plt.colorbar()\n",
        "for (i, j), z in np.ndenumerate(cm):\n",
        "    plt.text(j, i, round(z,2), ha='center', va='center')\n",
        "plt.xlabel(\"model label\")\n",
        "plt.ylabel(\"truth label\")\n",
        "plt.show()\n",
        "\n",
        "#performance on test set \n",
        "predict=model.predict(X_test)\n",
        "predict = np.argmax(predict, axis = -1)\n",
        "\n",
        "cm = confusion_matrix(y_test,predict,normalize= 'pred')\n",
        "plt.imshow(cm,interpolation='none',cmap='Reds')\n",
        "plt.colorbar()\n",
        "for (i, j), z in np.ndenumerate(cm):\n",
        "    plt.text(j, i,  round(z,2), ha='center', va='center')\n",
        "plt.xlabel(\"model label\")\n",
        "plt.ylabel(\"truth label\")\n",
        "plt.show()\n",
        "\n",
        "# Evaluate the model\n",
        "loss, acc = model.evaluate(X_test,  y_test, verbose=2)\n",
        "print(\"Untrained model, accuracy: {:5.2f}%\".format(100*acc))"
      ],
      "execution_count": 0,
      "outputs": [
        {
          "output_type": "display_data",
          "data": {
            "image/png": "[encoded data removed]",
            "text/plain": [
              "<Figure size 432x288 with 2 Axes>"
            ]
          },
          "metadata": {
            "tags": [],
            "needs_background": "light"
          }
        },
        {
          "output_type": "display_data",
          "data": {
            "image/png": "[encoded data removed]",
            "text/plain": [
              "<Figure size 432x288 with 2 Axes>"
            ]
          },
          "metadata": {
            "tags": [],
            "needs_background": "light"
          }
        },
        {
          "output_type": "stream",
          "text": [
            " - 0s - loss: 0.0406 - acc: 0.9887\n",
            "Untrained model, accuracy: 98.87%\n"
          ],
          "name": "stdout"
        }
      ]
    },
    {
      "cell_type": "code",
      "metadata": {
        "id": "eNHSAF6-GVNy",
        "colab_type": "code",
        "colab": {},
        "outputId": "37c8332b-c10e-48b1-abb3-4e5e023d7231"
      },
      "source": [
        "# serialize model to JSON\n",
        "model_json = model.to_json()\n",
        "with open(\"model_12sym_5chr.json\", \"w\") as json_file:\n",
        "    json_file.write(model_json)\n",
        "# serialize weights to HDF5\n",
        "model.save_weights(\"model_12sym_5chr.h5\")\n",
        "print(\"Saved model to disk\")"
      ],
      "execution_count": 0,
      "outputs": [
        {
          "output_type": "stream",
          "text": [
            "Saved model to disk\n"
          ],
          "name": "stdout"
        }
      ]
    },
    {
      "cell_type": "markdown",
      "metadata": {
        "id": "8eAgbrUoGVN1",
        "colab_type": "text"
      },
      "source": [
        "# grid searching "
      ]
    },
    {
      "cell_type": "code",
      "metadata": {
        "id": "nZY89sdMGVN1",
        "colab_type": "code",
        "colab": {}
      },
      "source": [
        "# Function to create model, required for KerasClassifier\n",
        "def create_model(dense_layer_sizes,learning_rate):\n",
        "# create model\n",
        "    model = Sequential()\n",
        "    model.add(Dense(64, input_dim=29, activation='relu'))\n",
        "    for i in dense_layer_sizes:\n",
        "        model.add(Dense(i, activation='relu'))\n",
        "        #model.add(Dense(128, activation='relu'))\n",
        "    model.add(Dense(4, activation='softmax'))\n",
        "    # Compile model\n",
        "    opt = keras.optimizers.Adam(learning_rate)\n",
        "    model.compile(loss='sparse_categorical_crossentropy', optimizer=opt, metrics=['accuracy'])\n",
        "    return model\n",
        "\n",
        "seed = 2\n",
        "np.random.seed(seed)\n",
        "model = KerasClassifier(build_fn=create_model, verbose=0)"
      ],
      "execution_count": 0,
      "outputs": []
    },
    {
      "cell_type": "code",
      "metadata": {
        "id": "eQNmQE5tGVN4",
        "colab_type": "code",
        "colab": {}
      },
      "source": [
        "batch_size = [1,2,5,7,10, 20 ]\n",
        "epochs=[30,40,50,60,70]\n",
        "learn_rate = [0.0001, 0.001, 0.01]\n",
        "momentum = [0.0, 0.2, 0.4, 0.6, 0.8]\n",
        "dense_layer_sizes = [(64), (32, 32), (64, 64),(128,128)]\n",
        "\n",
        "scorers = {\n",
        "        'precision_score': make_scorer(precision_score),\n",
        "        'recall_score': make_scorer(recall_score),\n",
        "        'accuracy_score': make_scorer(accuracy_score)\n",
        "        }\n",
        "\n",
        "param_grid = dict(epochs=epochs, batch_size=batch_size, learning_rate = learn_rate, dense_layer_sizes = dense_layer_sizes )"
      ],
      "execution_count": 0,
      "outputs": []
    },
    {
      "cell_type": "code",
      "metadata": {
        "id": "lOd7PtP1GVN7",
        "colab_type": "code",
        "colab": {}
      },
      "source": [
        "#my_classifier = KerasClassifier(model, batch_size=32, epochs=10)\n",
        "grid_search = GridSearchCV(estimator = model, param_grid = param_grid, cv = 3, n_jobs = -1, verbose = 10)"
      ],
      "execution_count": 0,
      "outputs": []
    },
    {
      "cell_type": "code",
      "metadata": {
        "id": "QUBGo7C8GVN-",
        "colab_type": "code",
        "colab": {},
        "outputId": "ca7891ac-26a2-4e7d-a2a1-19aa463245c6"
      },
      "source": [
        "# Fit the grid search to the data\n",
        "grid_search.fit(X_train, y_train)"
      ],
      "execution_count": 0,
      "outputs": [
        {
          "output_type": "stream",
          "text": [
            "Fitting 3 folds for each of 360 candidates, totalling 1080 fits\n"
          ],
          "name": "stdout"
        },
        {
          "output_type": "stream",
          "text": [
            "[Parallel(n_jobs=-1)]: Using backend LokyBackend with 4 concurrent workers.\n",
            "[Parallel(n_jobs=-1)]: Done   5 tasks      | elapsed:    7.9s\n",
            "[Parallel(n_jobs=-1)]: Done  10 tasks      | elapsed:    8.1s\n",
            "[Parallel(n_jobs=-1)]: Done  17 tasks      | elapsed:    8.2s\n",
            "[Parallel(n_jobs=-1)]: Done  24 tasks      | elapsed:    8.4s\n",
            "[Parallel(n_jobs=-1)]: Done  33 tasks      | elapsed:    8.6s\n",
            "[Parallel(n_jobs=-1)]: Batch computation too fast (0.1954s.) Setting batch_size=2.\n",
            "[Parallel(n_jobs=-1)]: Done  42 tasks      | elapsed:    8.7s\n",
            "[Parallel(n_jobs=-1)]: Batch computation too slow (380.3184s.) Setting batch_size=1.\n",
            "[Parallel(n_jobs=-1)]: Done  61 tasks      | elapsed: 30.6min\n",
            "[Parallel(n_jobs=-1)]: Done  72 tasks      | elapsed: 64.5min\n",
            "[Parallel(n_jobs=-1)]: Done  85 tasks      | elapsed: 112.9min\n",
            "[Parallel(n_jobs=-1)]: Done  98 tasks      | elapsed: 150.6min\n",
            "[Parallel(n_jobs=-1)]: Done 113 tasks      | elapsed: 200.6min\n",
            "[Parallel(n_jobs=-1)]: Done 128 tasks      | elapsed: 264.3min\n",
            "[Parallel(n_jobs=-1)]: Done 145 tasks      | elapsed: 330.0min\n",
            "[Parallel(n_jobs=-1)]: Done 162 tasks      | elapsed: 408.4min\n",
            "[Parallel(n_jobs=-1)]: Done 181 tasks      | elapsed: 509.7min\n",
            "[Parallel(n_jobs=-1)]: Done 200 tasks      | elapsed: 509.8min\n",
            "[Parallel(n_jobs=-1)]: Done 221 tasks      | elapsed: 510.0min\n",
            "[Parallel(n_jobs=-1)]: Done 242 tasks      | elapsed: 554.5min\n"
          ],
          "name": "stderr"
        }
      ]
    },
    {
      "cell_type": "code",
      "metadata": {
        "id": "LeBnYN13GVOA",
        "colab_type": "code",
        "colab": {}
      },
      "source": [
        "# summarize results\n",
        "print(\"Best: %f using %s\" % (grid_search.best_score_, grid_search.best_params_))\n",
        "means = grid_search.cv_results_['mean_test_score']\n",
        "stds = grid_search.cv_results_['std_test_score']\n",
        "params = grid_search.cv_results_['params']\n",
        "\n",
        "print('\\n')\n",
        "print('all results : ')\n",
        "for mean, stdev, param in zip(means, stds, params):\n",
        "    print(\"%f (%f) with: %r\" % (mean, stdev, param))"
      ],
      "execution_count": 0,
      "outputs": []
    },
    {
      "cell_type": "code",
      "metadata": {
        "id": "hmwgUsVZGVOE",
        "colab_type": "code",
        "colab": {}
      },
      "source": [
        ""
      ],
      "execution_count": 0,
      "outputs": []
    }
  ]
}